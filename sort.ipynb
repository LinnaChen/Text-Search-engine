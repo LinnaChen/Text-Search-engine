{
 "cells": [
  {
   "cell_type": "code",
   "execution_count": null,
   "metadata": {},
   "outputs": [],
   "source": [
    "import csv\n",
    "import pandas as pd\n",
    "\n",
    "\n",
    "yuanfile=pd.read_csv(\"123.txt\", names=['word','filename','value'], sep=\"\\s+\")\n",
    "pdfile = pd.DataFrame(yuanfile)\n",
    "testfile = pdfile.sort_values(by=['word','value'],ascending=(True,False))\n",
    "testfile.to_csv('small.txt', sep='-', header=False ,index=False)"
   ]
  }
 ],
 "metadata": {
  "kernelspec": {
   "display_name": "Python 3",
   "language": "python",
   "name": "python3"
  },
  "language_info": {
   "codemirror_mode": {
    "name": "ipython",
    "version": 3
   },
   "file_extension": ".py",
   "mimetype": "text/x-python",
   "name": "python",
   "nbconvert_exporter": "python",
   "pygments_lexer": "ipython3",
   "version": "3.7.1"
  }
 },
 "nbformat": 4,
 "nbformat_minor": 2
}
